{
 "cells": [
  {
   "cell_type": "code",
   "execution_count": 4,
   "metadata": {},
   "outputs": [],
   "source": [
    "from bs4 import BeautifulSoup\n",
    "import openpyxl\n",
    "\n",
    "# Read the HTML file\n",
    "with open('Flipkart.html', 'r', encoding='utf-8') as file:\n",
    "    content = file.read()\n",
    "\n",
    "# Parse the HTML content with BeautifulSoup\n",
    "soup = BeautifulSoup(content, 'html.parser')\n",
    "\n",
    "# Find the main div with class \"_75nlfW\"\n",
    "main_div = soup.find('div', class_='_75nlfW')\n",
    "\n",
    "# Prepare lists to store product details\n",
    "product_names = []\n",
    "product_prices = []\n",
    "product_reviews = []\n",
    "\n",
    "# Find all <a> tags with class \"wjcEIp\" under the main div\n",
    "if main_div:\n",
    "    product_name_tags = main_div.find_all('a', class_='wjcEIp')\n",
    "    for product_name_tag in product_name_tags:\n",
    "        # Extract product name\n",
    "        if product_name_tag:\n",
    "            product_names.append(product_name_tag.get_text(strip=True))\n",
    "        else:\n",
    "            product_names.append(\" \")\n",
    "\n",
    "        # Extract product price\n",
    "        product_price_tag = product_name_tag.find_next('div', class_='Nx9bqj')\n",
    "        if product_price_tag:\n",
    "            product_prices.append(product_price_tag.get_text(strip=True))\n",
    "        else:\n",
    "            product_prices.append(\" \")\n",
    "\n",
    "        # Extract product review\n",
    "        product_review_tag = product_name_tag.find_next('div', class_='XQDdHH')\n",
    "        if product_review_tag:\n",
    "            product_reviews.append(product_review_tag.get_text(strip=True))\n",
    "        else:\n",
    "            product_reviews.append(\" \")\n",
    "\n",
    "# Create an Excel workbook and sheet\n",
    "workbook = openpyxl.Workbook()\n",
    "sheet = workbook.active\n",
    "sheet.title = 'Flipkart Products'\n",
    "\n",
    "# Write headers\n",
    "sheet.append(['Product Name', 'Product Price', 'Product Review'])\n",
    "\n",
    "# Write product details to the sheet\n",
    "for name, price, review in zip(product_names, product_prices, product_reviews):\n",
    "    sheet.append([name, price, review])\n",
    "\n",
    "# Save the Excel file\n",
    "workbook.save('Flipkart_Products.xlsx')\n"
   ]
  }
 ],
 "metadata": {
  "kernelspec": {
   "display_name": "Python 3",
   "language": "python",
   "name": "python3"
  },
  "language_info": {
   "codemirror_mode": {
    "name": "ipython",
    "version": 3
   },
   "file_extension": ".py",
   "mimetype": "text/x-python",
   "name": "python",
   "nbconvert_exporter": "python",
   "pygments_lexer": "ipython3",
   "version": "3.12.4"
  }
 },
 "nbformat": 4,
 "nbformat_minor": 2
}
