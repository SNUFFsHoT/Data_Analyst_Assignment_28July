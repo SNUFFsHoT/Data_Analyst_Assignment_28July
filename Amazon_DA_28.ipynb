{
 "cells": [
  {
   "cell_type": "code",
   "execution_count": 4,
   "metadata": {},
   "outputs": [],
   "source": [
    "from bs4 import BeautifulSoup\n",
    "import requests\n",
    "import pandas as pd\n",
    "import numpy as np"
   ]
  },
  {
   "cell_type": "code",
   "execution_count": 7,
   "metadata": {},
   "outputs": [
    {
     "name": "stdout",
     "output_type": "stream",
     "text": [
      "Data has been written to Amazon_Products.xlsx\n"
     ]
    }
   ],
   "source": [
    "# Load the HTML file\n",
    "with open('Amazon.html', 'r', encoding='utf-8') as file:\n",
    "    content = file.read()\n",
    "\n",
    "# Parse the HTML content\n",
    "soup = BeautifulSoup(content, 'html.parser')\n",
    "\n",
    "# Find all the product containers\n",
    "product_containers = soup.find_all('div', class_='puis-card-container s-card-container s-overflow-hidden aok-relative puis-include-content-margin puis puis-v2pt5ycp674vjw2dgankjwpqo0e s-latency-cf-section puis-card-border')\n",
    "\n",
    "# Initialize lists to store the data\n",
    "product_names = []\n",
    "product_prices = []\n",
    "product_reviews = []\n",
    "\n",
    "# Loop through each product container and extract the details\n",
    "for container in product_containers:\n",
    "    try:\n",
    "        product_name = container.find('span', class_='a-size-medium a-color-base a-text-normal').text.strip()\n",
    "    except AttributeError:\n",
    "        product_name = \" \"\n",
    "    \n",
    "    try:\n",
    "        product_price = container.find('span', class_='a-price-whole').text.strip()\n",
    "    except AttributeError:\n",
    "        product_price = \" \"\n",
    "    \n",
    "    try:\n",
    "        product_review = container.find('span', class_='a-icon-alt').text.strip()\n",
    "    except AttributeError:\n",
    "        product_review = \" \"\n",
    "    \n",
    "    # Append the details to the lists\n",
    "    product_names.append(product_name)\n",
    "    product_prices.append(product_price)\n",
    "    product_reviews.append(product_review)\n",
    "\n",
    "# Create a DataFrame from the lists\n",
    "data = {\n",
    "    'Product Name': product_names,\n",
    "    'Product Price': product_prices,\n",
    "    'Product Review': product_reviews\n",
    "}\n",
    "\n",
    "df = pd.DataFrame(data)\n",
    "\n",
    "# Write the DataFrame to an Excel file\n",
    "df.to_excel('Amazon_Products.xlsx', index=False)\n",
    "\n",
    "print('Data has been written to Amazon_Products.xlsx')\n"
   ]
  }
 ],
 "metadata": {
  "kernelspec": {
   "display_name": "Python 3",
   "language": "python",
   "name": "python3"
  },
  "language_info": {
   "codemirror_mode": {
    "name": "ipython",
    "version": 3
   },
   "file_extension": ".py",
   "mimetype": "text/x-python",
   "name": "python",
   "nbconvert_exporter": "python",
   "pygments_lexer": "ipython3",
   "version": "3.12.4"
  }
 },
 "nbformat": 4,
 "nbformat_minor": 2
}
